{
 "cells": [
  {
   "cell_type": "code",
   "execution_count": 4,
   "metadata": {},
   "outputs": [],
   "source": [
    "import json\n",
    "from datetime import timezone, datetime\n",
    "from pathlib import Path\n",
    "\n",
    "from jinja2 import Environment, FileSystemLoader"
   ]
  },
  {
   "cell_type": "code",
   "execution_count": 5,
   "metadata": {},
   "outputs": [
    {
     "name": "stdout",
     "output_type": "stream",
     "text": [
      "HTML file generated successfully!\n"
     ]
    }
   ],
   "source": [
    "\n",
    "\n",
    "# Load JSON data\n",
    "with Path(\"portfolio.json\").open(encoding=\"utf-8\") as f:\n",
    "    data = json.load(f)\n",
    "\n",
    "# Add any extra context if needed\n",
    "data[\"current_year\"] = datetime.now(tz=timezone.utc).year\n",
    "\n",
    "if \"social_links\" in data:\n",
    "    for link in data[\"social_links\"]:\n",
    "        if link.get(\"svg_path\"):\n",
    "            with Path(link[\"svg_path\"]).open(encoding=\"utf-8\") as svg_file:\n",
    "                link[\"svg_data\"] = svg_file.read()\n",
    "\n",
    "# Set up Jinja environment\n",
    "env = Environment(loader=FileSystemLoader(\".\"), autoescape=True)\n",
    "index_template = env.get_template(\"index_template.html\")\n",
    "resume_template = env.get_template(\"resume_template.html\")\n",
    "\n",
    "# Render the template with the data\n",
    "html_output = index_template.render(**data)\n",
    "resume_output = resume_template.render(**data)\n",
    "\n",
    "# This is equivalent to...\n",
    "# html_output = index_template.render(name=data[\"name\"], label=data[\"label\"]...)\n",
    "# resume_output = resume_template.render(name=data[\"name\"], label=data[\"label\"]...)\n",
    "\n",
    "# Write the output to an HTML file\n",
    "with Path(\"index.html\").open(\"w\", encoding=\"utf-8\") as f:\n",
    "    f.write(html_output)\n",
    "\n",
    "with Path(\"resume.html\").open(\"w\", encoding=\"utf-8\") as f:\n",
    "    f.write(resume_output)\n",
    "\n",
    "print(\"HTML file generated successfully!\")\n"
   ]
  },
  {
   "cell_type": "code",
   "execution_count": null,
   "metadata": {},
   "outputs": [],
   "source": []
  }
 ],
 "metadata": {
  "kernelspec": {
   "display_name": "astro_hal",
   "language": "python",
   "name": "python3"
  },
  "language_info": {
   "codemirror_mode": {
    "name": "ipython",
    "version": 3
   },
   "file_extension": ".py",
   "mimetype": "text/x-python",
   "name": "python",
   "nbconvert_exporter": "python",
   "pygments_lexer": "ipython3",
   "version": "3.9.22"
  }
 },
 "nbformat": 4,
 "nbformat_minor": 2
}
